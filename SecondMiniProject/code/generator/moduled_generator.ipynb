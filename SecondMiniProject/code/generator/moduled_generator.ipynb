{
 "cells": [
  {
   "cell_type": "code",
   "execution_count": null,
   "source": [
    "# 생성한 모듈 경로\r\n",
    "import generate_mod\r\n",
    "# 그 외의 모듈들\r\n",
    "import tensorflow as tf\r\n",
    "\r\n",
    "#파일 가져오기\r\n",
    "# Json 파일 및 소설 가져오기 읽기\r\n",
    "config = generate_mod.read_json()\r\n",
    "text = generate_mod.read_all_text(config,config['genres'][1])\r\n",
    "\r\n",
    "# 인덱싱 사전 생성 및 모든 텍스트 맵핑시킴\r\n",
    "vocab, char2idx, idx2char , text_as_int  = generate_mod.indexing(text)\r\n",
    "\r\n",
    "# training Sample/Target 생성\r\n",
    "# numpy -> tensor 형변환이라고 생각하는게 편함\r\n",
    "char_dataset = tf.data.Dataset.from_tensor_slices(text_as_int)\r\n",
    "\r\n",
    "# 청크파일 만들기 (즉 훈련 셈플등을 구하기)\r\n",
    "sequences = char_dataset.batch(config['seq_length']+1 , drop_remainder = True)\r\n",
    "dataset = sequences.map(generate_mod.split_input_target)\r\n",
    "\r\n",
    "# 읽어온 텍스트 길이로 버퍼 크기 선정\r\n",
    "Buffer_size = len(text_as_int) * 2\r\n",
    "\r\n",
    "# BUFFER_SIZE개로 이루어진 버퍼로 임의의 샘플을 뽑은 후 BATCH_SIZE로 분할한다.\r\n",
    "dataset = dataset.shuffle(Buffer_size).batch(config['batch_size'], drop_remainder= True)\r\n",
    "\r\n",
    "# 모델생성\r\n",
    "model = generate_mod.model_learning(\r\n",
    "    config = config,\r\n",
    "    vocab = vocab,\r\n",
    "    dataset= dataset,\r\n",
    "    genre_Index = 1\r\n",
    "    )\r\n"
   ],
   "outputs": [],
   "metadata": {}
  },
  {
   "cell_type": "code",
   "execution_count": null,
   "source": [
    "# 생성한 모듈 경로\r\n",
    "import generate_mod\r\n",
    "# 그 외의 모듈들\r\n",
    "import tensorflow as tf\r\n",
    "\r\n",
    "generate_mod.generate_text(\r\n",
    "    model_index = 1, \r\n",
    "    start_string = '사건이 ',\r\n",
    "    num_generate = 1000,\r\n",
    "    temperature = 0.7\r\n",
    "    )"
   ],
   "outputs": [],
   "metadata": {}
  }
 ],
 "metadata": {
  "orig_nbformat": 4,
  "language_info": {
   "name": "python"
  }
 },
 "nbformat": 4,
 "nbformat_minor": 2
}