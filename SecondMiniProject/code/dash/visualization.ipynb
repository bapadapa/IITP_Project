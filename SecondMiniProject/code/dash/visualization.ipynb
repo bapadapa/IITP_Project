{
 "cells": [
  {
   "cell_type": "code",
   "execution_count": 3,
   "source": [
    "import sys\r\n",
    "sys.path.append('../generator')\r\n",
    "\r\n",
    "# 생성한 모듈 경로\r\n",
    "import generate_mod\r\n",
    "# 텍스트 출력\r\n",
    "generate_mod.generate_text(\r\n",
    "    model_index = 1, \r\n",
    "    start_string = '탐정',\r\n",
    "    num_generate = 1000,\r\n",
    "    temperature = 0.7\r\n",
    "    )"
   ],
   "outputs": [
    {
     "output_type": "stream",
     "name": "stdout",
     "text": [
      "WARNING:tensorflow:No training configuration found in the save file, so the model was *not* compiled. Compile it manually.\n"
     ]
    },
    {
     "output_type": "execute_result",
     "data": {
      "text/plain": [
       "'탐정맹수에 가격이라고 생각했었는데 그 사이에 우리 각별한 살인범이 아닙니다. 우리는 온갖 물류의식을 보내왔습니다. 그래서 저는 매일매일 로티가 있습니다. 그리고 에드워드 페리어는 호기심을 잠깐 멈추었습니다. 그렇다면 나는 그런 말씀을 하시더군요. 그런데 그 말에 1907년 5월 20일 밤 페닝턴은 시체의 입에서 나와 어리둥절하여 모자를 쓴 것 같\\r\\n았습니다.\\r\\n 나는 잠자코 있는 곳을 알아냈습니다. 금요일이고 그 후부터 2주일 동안 연애토인\\r\\n 내가 사정을 하려는 사람이 있겠습니까?\\r\\n물론 쉽게 조사할 수 있는 건 어떻게 아셨습니까?\\r\\n\\r\\n그런 말을 들었다는 것은 단지 진주의 생생이었습니다. 미스 마플은 클래독을 바라보고 있는 동안 홈즈는 사람이 너무 신경써 신경쓰고 있었다. 그것은 곧 에는 가엾은 그녀한테 홈즈도 만나 보겠음에 자포를 태운 사람이라고 말해 주었지만 오늘은 무슨 이유로 하는 일이 있었던 걸까. 소문이 퍼득 갈라있는 것과 같이 거의 없었다. 그러나 그 모든 걸 끝내기도 마찬가지. 그 때문에 이 모든 사건에 관해선 정말 대단하네. 여기서 살아날 기회가 없어 보이네.\\r\\n\\r\\n제공이 분노를 가까스로 끌어안에게 지쳐 버린다.\\r\\n\\r\\n이 빈 깡패 안진한의 그저 가만히 귀를 막아놓는 것이니 말이다.\\r\\n\\r\\n어딜?\\r\\n\\r\\n지하로 보이는 턱의 그림자가 들어왔다.\\r\\n\\r\\n그리고 마침내 검은 눈 자국. 하하하하하하하하하하하하하.\\r\\n\\r\\n김종숙의 얼굴을 이제야 알겠다는 듯이 반문해졌다.\\r\\n\\r\\n그럴 수밖에 없는 말이었다.\\r\\n\\r\\n\\r\\n\\r\\n\\r\\n\\r\\n신기해! 방금 전 확인을 해놓고 투구를 보는 거야!\\r\\n\\r\\n마음 같아선 어쩔 수 없지.\\r\\n\\r\\n이내 조용히 화를 삭히며 말했다.\\r\\n\\r\\n너 하나부터 이야기하는 거야. 그 놈 잡아서 걱정 마줘.\\r\\n\\r\\n응? 내가 그렇게 된다면 왜 그랬는지 알 수 있어. 그 자식 그 사람과 저 담배에 피가 지나 다니는 기분이었다.\\r\\n\\r\\n그런데 왜 그런 질문을 하는냐는 생각이 들어요.\\r\\n\\r\\n그 말에 수혁은 조금 어깨로 물었다.\\r\\n\\r\\n더 이상 사건을 해결법을 이룰 심합니다.'"
      ]
     },
     "metadata": {},
     "execution_count": 3
    }
   ],
   "metadata": {}
  },
  {
   "cell_type": "code",
   "execution_count": 1,
   "source": [],
   "outputs": [
    {
     "output_type": "execute_result",
     "data": {
      "text/plain": [
       "['d:\\\\workspace\\\\IITP_Project\\\\SecondMiniProject\\\\code\\\\dash',\n",
       " 'c:\\\\Users\\\\painc\\\\.vscode\\\\extensions\\\\ms-toolsai.jupyter-2021.8.1054968649\\\\pythonFiles',\n",
       " 'c:\\\\Users\\\\painc\\\\.vscode\\\\extensions\\\\ms-toolsai.jupyter-2021.8.1054968649\\\\pythonFiles\\\\lib\\\\python',\n",
       " 'C:\\\\Users\\\\painc\\\\Anaconda3\\\\envs\\\\tf\\\\python38.zip',\n",
       " 'C:\\\\Users\\\\painc\\\\Anaconda3\\\\envs\\\\tf\\\\DLLs',\n",
       " 'C:\\\\Users\\\\painc\\\\Anaconda3\\\\envs\\\\tf\\\\lib',\n",
       " 'C:\\\\Users\\\\painc\\\\Anaconda3\\\\envs\\\\tf',\n",
       " '',\n",
       " 'C:\\\\Users\\\\painc\\\\Anaconda3\\\\envs\\\\tf\\\\lib\\\\site-packages',\n",
       " 'C:\\\\Users\\\\painc\\\\Anaconda3\\\\envs\\\\tf\\\\lib\\\\site-packages\\\\locket-0.2.1-py3.8.egg',\n",
       " 'C:\\\\Users\\\\painc\\\\Anaconda3\\\\envs\\\\tf\\\\lib\\\\site-packages\\\\win32',\n",
       " 'C:\\\\Users\\\\painc\\\\Anaconda3\\\\envs\\\\tf\\\\lib\\\\site-packages\\\\win32\\\\lib',\n",
       " 'C:\\\\Users\\\\painc\\\\Anaconda3\\\\envs\\\\tf\\\\lib\\\\site-packages\\\\Pythonwin',\n",
       " 'C:\\\\Users\\\\painc\\\\Anaconda3\\\\envs\\\\tf\\\\lib\\\\site-packages\\\\IPython\\\\extensions',\n",
       " 'C:\\\\Users\\\\painc\\\\.ipython']"
      ]
     },
     "metadata": {},
     "execution_count": 1
    }
   ],
   "metadata": {}
  }
 ],
 "metadata": {
  "orig_nbformat": 4,
  "language_info": {
   "name": "python",
   "version": "3.8.8",
   "mimetype": "text/x-python",
   "codemirror_mode": {
    "name": "ipython",
    "version": 3
   },
   "pygments_lexer": "ipython3",
   "nbconvert_exporter": "python",
   "file_extension": ".py"
  },
  "kernelspec": {
   "name": "python3",
   "display_name": "Python 3.8.8 64-bit ('tf': conda)"
  },
  "interpreter": {
   "hash": "a6701f6db813f1c844b12c4e46b29afdab8244af650e803d413695b0e6cec516"
  }
 },
 "nbformat": 4,
 "nbformat_minor": 2
}