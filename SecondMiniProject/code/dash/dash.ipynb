{
 "cells": [
  {
   "cell_type": "code",
   "execution_count": 1,
   "source": [
    "import numpy as np\r\n",
    "import pandas as pd\r\n",
    "import plotly.graph_objects as go\r\n",
    "from scipy import stats\r\n",
    "\r\n",
    "import plotly.express as px\r\n",
    "import dash\r\n",
    "import dash_html_components as html\r\n",
    "import dash_core_components as dcc\r\n",
    "import dash_bootstrap_components as dbc\r\n",
    "from dash.dependencies import Input, Output, State\r\n",
    "import sys\r\n",
    "sys.path.append(\"../generator\")\r\n",
    "\r\n",
    "# 생성한 모듈 경로\r\n",
    "import generate_mod\r\n",
    "# 그 외의 모듈들\r\n",
    "import tensorflow as tf\r\n"
   ],
   "outputs": [],
   "metadata": {}
  },
  {
   "cell_type": "code",
   "execution_count": 2,
   "source": [
    "vpredict=dbc.Card([\r\n",
    "    dcc.RadioItems(\r\n",
    "                id='radio_button_paid_search',\r\n",
    "            options=[\r\n",
    "                {'label': '로맨스  ', 'value': 'model_romance'},\r\n",
    "                {'label': '추리   ', 'value': 'model_reasoning'},\r\n",
    "                {'label': '무협   ', 'value': 'model_matial_arts'}\r\n",
    "            ],\r\n",
    "            labelStyle={'display': 'inline-block'},\r\n",
    "            style={'color':'gray',\r\n",
    "                'font-weight': 'bold',\r\n",
    "                  'border-radius': '2em',\r\n",
    "                   'fontSize':40\r\n",
    "                  }\r\n",
    "            ),\r\n",
    "    dbc.CardBody(style={'backgroundColor': 'white',\r\n",
    "                    'background-image': \"url('/assets/책그림.png')\",\r\n",
    "                   'background-repeat':'no-repeat',\r\n",
    "                   'background-size': '100% 100%',\r\n",
    "                        'width':'100%','height':'300px',\r\n",
    "                      'textAlign': 'center'},\r\n",
    "                        children= [\r\n",
    "            \r\n",
    "            dcc.Input(\r\n",
    "                id='keyword',\r\n",
    "                type='text',\r\n",
    "                style={'color':'gray',\r\n",
    "                       'textAlign': 'center',\r\n",
    "                       'fontSize': 40,\r\n",
    "                       'backgroundColor': 'white',\r\n",
    "                        'width':'200px','height':'50px',\r\n",
    "                       'background-color': 'white'\r\n",
    "                    \r\n",
    "                       }\r\n",
    "            ),\r\n",
    "            html.Button('만들기', id='submit-val', n_clicks=0, style = {'textAlign': 'center',\r\n",
    "                                                               'size': 30,\r\n",
    "                                                               'fontSize':20,\r\n",
    "                                                               'background-color': 'gray',\r\n",
    "                                                               'color': '#ffffff',\r\n",
    "                                                               'font-weight': 'bold',\r\n",
    "                                                               'border': '0.2rem solid',\r\n",
    "                                                               'border-radius': '60px',\r\n",
    "                                                               'border-color':'#E2E2E2',\r\n",
    "                                                               'padding': '1rem 1.5rem',\r\n",
    "                                                               'cursor': 'pointer',\r\n",
    "                                                               'transition': 'all 0.15s'})\r\n",
    "                \r\n",
    "                                                                                            \r\n",
    "    ])\r\n",
    "])\r\n",
    "\r\n",
    "pre = dbc.Card([\r\n",
    "                   html.Div( id = 'predict',\r\n",
    "                            style = {'weight':300,\r\n",
    "                                    'textAlign': 'center', \r\n",
    "                                    'fontSize': 10,\r\n",
    "                                    'color':'black',\r\n",
    "                                    'border-style': 'solid;white'\r\n",
    "                                }\r\n",
    "                            )\r\n",
    "                          \r\n",
    "              ])"
   ],
   "outputs": [],
   "metadata": {}
  },
  {
   "cell_type": "code",
   "execution_count": 3,
   "source": [
    "app = dash.Dash(__name__,external_stylesheets=[dbc.themes.SIMPLEX])\r\n",
    "search_result = dbc.Card(style={'border-style': 'solid;white'\r\n",
    "                              },\r\n",
    "                children=[\r\n",
    "    dbc.CardBody(style={'textAlign':'center',\r\n",
    "                       'width':'100%','height':'600px'},\r\n",
    "                 children=[\r\n",
    "        dbc.Row(\r\n",
    "                dbc.Col(style={\r\n",
    "                                             'align': 'center', \r\n",
    "                                             'width':'100%','height':'400px'\r\n",
    "                    },\r\n",
    "                        children=[\r\n",
    "\r\n",
    "                    html.H2(vpredict, style={\r\n",
    "                                             'align': 'center', \r\n",
    "                                             'width':'100%','height':'400px'\r\n",
    "                    }),\r\n",
    "                               \r\n",
    "                        ])\r\n",
    "                ),\r\n",
    "        dbc.Row([\r\n",
    "                dbc.Col(style={'textAlign': 'center',\r\n",
    "                    'backgroundColor': 'white',\r\n",
    "                    'background-image': \"url('/assets/노노.png')\",\r\n",
    "                   'background-repeat':'no-repeat',\r\n",
    "                   'background-size': '100% 800px'},\r\n",
    "                     \r\n",
    "              children=[\r\n",
    "                   html.H1('나만의 소설', style={ 'weight': '300px',\r\n",
    "                                              'textAlign': 'center',\r\n",
    "                                              'color':'black',\r\n",
    "                                           'font-weight': 'bold'}),\r\n",
    "              \r\n",
    "                   html.Div(id='predict',\r\n",
    "                             style={'weight': 500,\r\n",
    "                                    'textAlign': 'center',\r\n",
    "                                    'fontSize': 20,\r\n",
    "                                    'width':'100%','height':'100%',\r\n",
    "                                    'color':'black'\r\n",
    "                                    })\r\n",
    "                    \r\n",
    "                ])\r\n",
    "            ])\r\n",
    "        \r\n",
    "    ])\r\n",
    "])    \r\n",
    "\r\n",
    "app.layout = html.Div([\r\n",
    "    \r\n",
    "    html.Div(\r\n",
    "        style={'backgroundColor': 'white',\r\n",
    "              'border-style': 'solid;white'},\r\n",
    "         children=\r\n",
    "        [\r\n",
    "           html.Img(src=app.get_asset_url('./배.jpg'),\r\n",
    "            style={'width':'100%','height':'100%'}),\r\n",
    "           search_result,\r\n",
    "            html.Img(src=app.get_asset_url('./기쁨.png'), style={'width':'100%','height':'100px'})\r\n",
    "          ]\r\n",
    "    )\r\n",
    "])\r\n",
    "\r\n",
    "\r\n",
    "\r\n"
   ],
   "outputs": [],
   "metadata": {}
  },
  {
   "cell_type": "code",
   "execution_count": 4,
   "source": [
    "@app.callback(\r\n",
    "    Output('predict','children'),\r\n",
    "    Input('submit-val','n_clicks'),\r\n",
    "    State('keyword', 'value'),\r\n",
    "    State('radio_button_paid_search','value')\r\n",
    ")\r\n",
    "\r\n",
    "def update_predict(n_clicks,keyword,novel_type):\r\n",
    "    idx = 0\r\n",
    "    if novel_type == 'model_romance':\r\n",
    "        model_name = '로맨스 소설 : '\r\n",
    "        idx = 0\r\n",
    "    elif novel_type == 'model_reasoning':\r\n",
    "        model_name = '추리 소설 : '\r\n",
    "        idx = 1\r\n",
    "    else:\r\n",
    "        model_name = '무협 소설 : '\r\n",
    "        idx =2\r\n",
    "    \r\n",
    "    result = generate_mod.generate_text(\r\n",
    "                    model_index = idx, \r\n",
    "                    start_string = f'{keyword} ',\r\n",
    "                    num_generate = 1000,\r\n",
    "                    temperature = 0.7\r\n",
    "                    )\r\n",
    "\r\n",
    "    \r\n",
    "    return html.Div([\r\n",
    "           html.H4(model_name+ str(result)),n_clicks\r\n",
    "        ])"
   ],
   "outputs": [],
   "metadata": {}
  },
  {
   "cell_type": "code",
   "execution_count": 5,
   "source": [
    "app.run_server(port='1111')\r\n"
   ],
   "outputs": [
    {
     "output_type": "stream",
     "name": "stdout",
     "text": [
      "Dash is running on http://127.0.0.1:1111/\n",
      "\n",
      " * Serving Flask app \"__main__\" (lazy loading)\n",
      " * Environment: production\n",
      "   WARNING: This is a development server. Do not use it in a production deployment.\n",
      "   Use a production WSGI server instead.\n",
      " * Debug mode: off\n"
     ]
    },
    {
     "output_type": "stream",
     "name": "stderr",
     "text": [
      " * Running on http://127.0.0.1:1111/ (Press CTRL+C to quit)\n",
      "127.0.0.1 - - [03/Aug/2021 17:30:47] \"\u001b[37mGET / HTTP/1.1\u001b[0m\" 200 -\n",
      "127.0.0.1 - - [03/Aug/2021 17:30:47] \"\u001b[37mGET /_dash-layout HTTP/1.1\u001b[0m\" 200 -\n",
      "127.0.0.1 - - [03/Aug/2021 17:30:47] \"\u001b[37mGET /_dash-dependencies HTTP/1.1\u001b[0m\" 200 -\n"
     ]
    },
    {
     "output_type": "stream",
     "name": "stdout",
     "text": [
      "Exception on /_dash-update-component [POST]\n",
      "Traceback (most recent call last):\n",
      "  File \"C:\\Users\\painc\\Anaconda3\\envs\\tf\\lib\\site-packages\\flask\\app.py\", line 2447, in wsgi_app\n",
      "    response = self.full_dispatch_request()\n",
      "  File \"C:\\Users\\painc\\Anaconda3\\envs\\tf\\lib\\site-packages\\flask\\app.py\", line 1952, in full_dispatch_request\n",
      "    rv = self.handle_user_exception(e)\n",
      "  File \"C:\\Users\\painc\\Anaconda3\\envs\\tf\\lib\\site-packages\\flask\\app.py\", line 1821, in handle_user_exception\n",
      "    reraise(exc_type, exc_value, tb)\n",
      "  File \"C:\\Users\\painc\\Anaconda3\\envs\\tf\\lib\\site-packages\\flask\\_compat.py\", line 39, in reraise\n",
      "    raise value\n",
      "  File \"C:\\Users\\painc\\Anaconda3\\envs\\tf\\lib\\site-packages\\flask\\app.py\", line 1950, in full_dispatch_request\n",
      "    rv = self.dispatch_request()\n",
      "  File \"C:\\Users\\painc\\Anaconda3\\envs\\tf\\lib\\site-packages\\flask\\app.py\", line 1936, in dispatch_request\n",
      "    return self.view_functions[rule.endpoint](**req.view_args)\n",
      "  File \"C:\\Users\\painc\\Anaconda3\\envs\\tf\\lib\\site-packages\\dash\\dash.py\", line 1096, in dispatch\n",
      "    response.set_data(func(*args, outputs_list=outputs_list))\n",
      "  File \"C:\\Users\\painc\\Anaconda3\\envs\\tf\\lib\\site-packages\\dash\\dash.py\", line 1017, in add_context\n",
      "    output_value = func(*args, **kwargs)  # %% callback invoked %%\n",
      "  File \"C:\\Users\\painc\\AppData\\Local\\Temp/ipykernel_16540/780745329.py\", line 20, in update_predict\n",
      "    result = generate_mod.generate_text(\n",
      "  File \"../generator\\generate_mod.py\", line 186, in generate_text\n",
      "    model = load_model(f'{model_Path}.h5')\n",
      "  File \"C:\\Users\\painc\\Anaconda3\\envs\\tf\\lib\\site-packages\\tensorflow\\python\\keras\\saving\\save.py\", line 186, in load_model\n",
      "    loader_impl.parse_saved_model(filepath)\n",
      "  File \"C:\\Users\\painc\\Anaconda3\\envs\\tf\\lib\\site-packages\\tensorflow\\python\\saved_model\\loader_impl.py\", line 110, in parse_saved_model\n",
      "    raise IOError(\"SavedModel file does not exist at: %s/{%s|%s}\" %\n",
      "OSError: SavedModel file does not exist at: ../../data/models/martialArts.h5/{saved_model.pbtxt|saved_model.pb}\n"
     ]
    },
    {
     "output_type": "stream",
     "name": "stderr",
     "text": [
      "127.0.0.1 - - [03/Aug/2021 17:30:53] \"\u001b[35m\u001b[1mPOST /_dash-update-component HTTP/1.1\u001b[0m\" 500 -\n"
     ]
    },
    {
     "output_type": "stream",
     "name": "stdout",
     "text": [
      "WARNING:tensorflow:No training configuration found in the save file, so the model was *not* compiled. Compile it manually.\n"
     ]
    },
    {
     "output_type": "stream",
     "name": "stderr",
     "text": [
      "127.0.0.1 - - [03/Aug/2021 17:31:03] \"\u001b[37mPOST /_dash-update-component HTTP/1.1\u001b[0m\" 200 -\n"
     ]
    }
   ],
   "metadata": {
    "scrolled": true
   }
  },
  {
   "cell_type": "code",
   "execution_count": null,
   "source": [],
   "outputs": [],
   "metadata": {}
  },
  {
   "cell_type": "code",
   "execution_count": null,
   "source": [],
   "outputs": [],
   "metadata": {}
  },
  {
   "cell_type": "code",
   "execution_count": null,
   "source": [
    "\r\n",
    "\r\n"
   ],
   "outputs": [],
   "metadata": {}
  },
  {
   "cell_type": "code",
   "execution_count": null,
   "source": [],
   "outputs": [],
   "metadata": {}
  }
 ],
 "metadata": {
  "interpreter": {
   "hash": "a6701f6db813f1c844b12c4e46b29afdab8244af650e803d413695b0e6cec516"
  },
  "kernelspec": {
   "name": "python3",
   "display_name": "Python 3.8.8 64-bit ('tf': conda)"
  },
  "language_info": {
   "codemirror_mode": {
    "name": "ipython",
    "version": 3
   },
   "file_extension": ".py",
   "mimetype": "text/x-python",
   "name": "python",
   "nbconvert_exporter": "python",
   "pygments_lexer": "ipython3",
   "version": "3.8.8"
  }
 },
 "nbformat": 4,
 "nbformat_minor": 2
}