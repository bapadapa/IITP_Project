{
 "metadata": {
  "language_info": {
   "codemirror_mode": {
    "name": "ipython",
    "version": 3
   },
   "file_extension": ".py",
   "mimetype": "text/x-python",
   "name": "python",
   "nbconvert_exporter": "python",
   "pygments_lexer": "ipython3",
   "version": "3.8.8"
  },
  "orig_nbformat": 4,
  "kernelspec": {
   "name": "python3",
   "display_name": "Python 3.8.8 64-bit ('base': conda)"
  },
  "interpreter": {
   "hash": "68964f74c11d332c21e95cd675b1759e0933fc99bd167841b9b8a4ac82dd0a35"
  }
 },
 "nbformat": 4,
 "nbformat_minor": 2,
 "cells": [
  {
   "cell_type": "code",
   "execution_count": 55,
   "metadata": {},
   "outputs": [],
   "source": [
    "import numpy as np\n",
    "import pandas as pd\n",
    "import os\n"
   ]
  },
  {
   "cell_type": "code",
   "execution_count": null,
   "metadata": {},
   "outputs": [],
   "source": [
    "# 파이썬에서 ANSI로 읽으니까 한글이 깨짐.\n",
    "\n",
    "# 경로의 파일명들 가져오기\n",
    "data = os.listdir('./의료인력')\n",
    "# 인코딩 변경하기  ANSI -> utf-8-sig\n",
    "for path in data:\n",
    "    df = pd.read_csv('./의료인력/'+path, encoding='ANSI')\n",
    "    df.to_csv('./의료인력/'+path[:-4]+'.csv', encoding='utf-8-sig', index=False)\n",
    "\n",
    "\n",
    "# 경로의 파일명들 가져오기\n",
    "data = os.listdir('./지역별종별의료시설')\n",
    "# 인코딩 변경하기  xls -> csv+utf-8-sig\n",
    "for path in data:\n",
    "    df= pd.read_excel('./지역별종별의료시설/'+path)\n",
    "    df.to_csv('./지역별종별의료시설/'+path[:-4]+'.csv', encoding='utf-8-sig', index=False)"
   ]
  },
  {
   "cell_type": "code",
   "execution_count": 383,
   "metadata": {},
   "outputs": [
    {
     "output_type": "stream",
     "name": "stderr",
     "text": [
      "<ipython-input-383-7b1a458f9dfa>:23: SettingWithCopyWarning: \nA value is trying to be set on a copy of a slice from a DataFrame.\nTry using .loc[row_indexer,col_indexer] = value instead\n\nSee the caveats in the documentation: https://pandas.pydata.org/pandas-docs/stable/user_guide/indexing.html#returning-a-view-versus-a-copy\n  temp['year'] = year\nC:\\Users\\painc\\Anaconda3\\lib\\site-packages\\IPython\\core\\interactiveshell.py:3437: SettingWithCopyWarning: \nA value is trying to be set on a copy of a slice from a DataFrame\n\nSee the caveats in the documentation: https://pandas.pydata.org/pandas-docs/stable/user_guide/indexing.html#returning-a-view-versus-a-copy\n  exec(code_obj, self.user_global_ns, self.user_ns)\n"
     ]
    },
    {
     "output_type": "execute_result",
     "data": {
      "text/plain": [
       "0     연도  시도 일반진료중심(광역 이상) 일반진료중심(광역 이상) 일반진료중심(광역 이상) 일반진료중심(광역 이상)  \\\n",
       "2   2015  전국            17           100            17           100   \n",
       "3   2015  서울             2          11.8             2          11.8   \n",
       "4   2015  부산             1           5.9             1           5.9   \n",
       "5   2015  대구             2          11.8             2          11.8   \n",
       "6   2015  인천             0             0             0             0   \n",
       "..   ...  ..           ...           ...           ...           ...   \n",
       "15  2019  전북             1           5.9             1           5.9   \n",
       "16  2019  전남             1           5.9             1           5.9   \n",
       "17  2019  경북             0             0             0             0   \n",
       "18  2019  경남             3          17.6             3          17.6   \n",
       "19  2019  제주             1           5.9             1           5.9   \n",
       "\n",
       "0  일반진료중심(단일 혹은 복수 기초자치단체) 일반진료중심(단일 혹은 복수 기초자치단체) 일반진료중심(단일 혹은 복수 기초자치단체)  \\\n",
       "2                       43                     100                      43   \n",
       "3                        5                    11.6                       5   \n",
       "4                        1                     2.3                       1   \n",
       "5                        1                     2.3                       1   \n",
       "6                        3                       7                       3   \n",
       "..                     ...                     ...                     ...   \n",
       "15                       3                     6.5                       3   \n",
       "16                       3                     6.5                       3   \n",
       "17                       6                      13                       6   \n",
       "18                       3                     6.5                       3   \n",
       "19                       2                     4.3                       2   \n",
       "\n",
       "0  일반진료중심(단일 혹은 복수 기초자치단체)  ... 특수대상중심 특수대상중심 특수질환중심 특수질환중심 특수질환중심 특수질환중심  \\\n",
       "2                      100  ...     36    100     38    100     38    100   \n",
       "3                     11.6  ...      3    8.3      8   21.1      8   21.1   \n",
       "4                      2.3  ...      2    5.6      2    5.3      2    5.3   \n",
       "5                      2.3  ...      2    5.6      1    2.6      1    2.6   \n",
       "6                        7  ...      1    2.8      1    2.6      1    2.6   \n",
       "..                     ...  ...    ...    ...    ...    ...    ...    ...   \n",
       "15                     6.5  ...      0      0      2    5.1      2    5.1   \n",
       "16                     6.5  ...      2    5.6      3    7.7      3    7.7   \n",
       "17                      13  ...      2    5.6      0      0      0      0   \n",
       "18                     6.5  ...      2    5.6      5   12.8      5   12.8   \n",
       "19                     4.3  ...      0      0      1    2.6      1    2.6   \n",
       "\n",
       "0  노인병원  노인병원 노인병원  노인병원  \n",
       "2    78   100   78   100  \n",
       "3     3   3.8    3   3.8  \n",
       "4     4   5.1    4   5.1  \n",
       "5     2   2.6    2   2.6  \n",
       "6     2   2.6    2   2.6  \n",
       "..  ...   ...  ...   ...  \n",
       "15    6   7.2    6   7.2  \n",
       "16   13  15.7   13  15.7  \n",
       "17   16  19.3   16  19.3  \n",
       "18    9  10.8    9  10.8  \n",
       "19    1   1.2    1   1.2  \n",
       "\n",
       "[90 rows x 22 columns]"
      ],
      "text/html": "<div>\n<style scoped>\n    .dataframe tbody tr th:only-of-type {\n        vertical-align: middle;\n    }\n\n    .dataframe tbody tr th {\n        vertical-align: top;\n    }\n\n    .dataframe thead th {\n        text-align: right;\n    }\n</style>\n<table border=\"1\" class=\"dataframe\">\n  <thead>\n    <tr style=\"text-align: right;\">\n      <th></th>\n      <th>연도</th>\n      <th>시도</th>\n      <th>일반진료중심(광역 이상)</th>\n      <th>일반진료중심(광역 이상)</th>\n      <th>일반진료중심(광역 이상)</th>\n      <th>일반진료중심(광역 이상)</th>\n      <th>일반진료중심(단일 혹은 복수 기초자치단체)</th>\n      <th>일반진료중심(단일 혹은 복수 기초자치단체)</th>\n      <th>일반진료중심(단일 혹은 복수 기초자치단체)</th>\n      <th>일반진료중심(단일 혹은 복수 기초자치단체)</th>\n      <th>...</th>\n      <th>특수대상중심</th>\n      <th>특수대상중심</th>\n      <th>특수질환중심</th>\n      <th>특수질환중심</th>\n      <th>특수질환중심</th>\n      <th>특수질환중심</th>\n      <th>노인병원</th>\n      <th>노인병원</th>\n      <th>노인병원</th>\n      <th>노인병원</th>\n    </tr>\n  </thead>\n  <tbody>\n    <tr>\n      <th>2</th>\n      <td>2015</td>\n      <td>전국</td>\n      <td>17</td>\n      <td>100</td>\n      <td>17</td>\n      <td>100</td>\n      <td>43</td>\n      <td>100</td>\n      <td>43</td>\n      <td>100</td>\n      <td>...</td>\n      <td>36</td>\n      <td>100</td>\n      <td>38</td>\n      <td>100</td>\n      <td>38</td>\n      <td>100</td>\n      <td>78</td>\n      <td>100</td>\n      <td>78</td>\n      <td>100</td>\n    </tr>\n    <tr>\n      <th>3</th>\n      <td>2015</td>\n      <td>서울</td>\n      <td>2</td>\n      <td>11.8</td>\n      <td>2</td>\n      <td>11.8</td>\n      <td>5</td>\n      <td>11.6</td>\n      <td>5</td>\n      <td>11.6</td>\n      <td>...</td>\n      <td>3</td>\n      <td>8.3</td>\n      <td>8</td>\n      <td>21.1</td>\n      <td>8</td>\n      <td>21.1</td>\n      <td>3</td>\n      <td>3.8</td>\n      <td>3</td>\n      <td>3.8</td>\n    </tr>\n    <tr>\n      <th>4</th>\n      <td>2015</td>\n      <td>부산</td>\n      <td>1</td>\n      <td>5.9</td>\n      <td>1</td>\n      <td>5.9</td>\n      <td>1</td>\n      <td>2.3</td>\n      <td>1</td>\n      <td>2.3</td>\n      <td>...</td>\n      <td>2</td>\n      <td>5.6</td>\n      <td>2</td>\n      <td>5.3</td>\n      <td>2</td>\n      <td>5.3</td>\n      <td>4</td>\n      <td>5.1</td>\n      <td>4</td>\n      <td>5.1</td>\n    </tr>\n    <tr>\n      <th>5</th>\n      <td>2015</td>\n      <td>대구</td>\n      <td>2</td>\n      <td>11.8</td>\n      <td>2</td>\n      <td>11.8</td>\n      <td>1</td>\n      <td>2.3</td>\n      <td>1</td>\n      <td>2.3</td>\n      <td>...</td>\n      <td>2</td>\n      <td>5.6</td>\n      <td>1</td>\n      <td>2.6</td>\n      <td>1</td>\n      <td>2.6</td>\n      <td>2</td>\n      <td>2.6</td>\n      <td>2</td>\n      <td>2.6</td>\n    </tr>\n    <tr>\n      <th>6</th>\n      <td>2015</td>\n      <td>인천</td>\n      <td>0</td>\n      <td>0</td>\n      <td>0</td>\n      <td>0</td>\n      <td>3</td>\n      <td>7</td>\n      <td>3</td>\n      <td>7</td>\n      <td>...</td>\n      <td>1</td>\n      <td>2.8</td>\n      <td>1</td>\n      <td>2.6</td>\n      <td>1</td>\n      <td>2.6</td>\n      <td>2</td>\n      <td>2.6</td>\n      <td>2</td>\n      <td>2.6</td>\n    </tr>\n    <tr>\n      <th>...</th>\n      <td>...</td>\n      <td>...</td>\n      <td>...</td>\n      <td>...</td>\n      <td>...</td>\n      <td>...</td>\n      <td>...</td>\n      <td>...</td>\n      <td>...</td>\n      <td>...</td>\n      <td>...</td>\n      <td>...</td>\n      <td>...</td>\n      <td>...</td>\n      <td>...</td>\n      <td>...</td>\n      <td>...</td>\n      <td>...</td>\n      <td>...</td>\n      <td>...</td>\n      <td>...</td>\n    </tr>\n    <tr>\n      <th>15</th>\n      <td>2019</td>\n      <td>전북</td>\n      <td>1</td>\n      <td>5.9</td>\n      <td>1</td>\n      <td>5.9</td>\n      <td>3</td>\n      <td>6.5</td>\n      <td>3</td>\n      <td>6.5</td>\n      <td>...</td>\n      <td>0</td>\n      <td>0</td>\n      <td>2</td>\n      <td>5.1</td>\n      <td>2</td>\n      <td>5.1</td>\n      <td>6</td>\n      <td>7.2</td>\n      <td>6</td>\n      <td>7.2</td>\n    </tr>\n    <tr>\n      <th>16</th>\n      <td>2019</td>\n      <td>전남</td>\n      <td>1</td>\n      <td>5.9</td>\n      <td>1</td>\n      <td>5.9</td>\n      <td>3</td>\n      <td>6.5</td>\n      <td>3</td>\n      <td>6.5</td>\n      <td>...</td>\n      <td>2</td>\n      <td>5.6</td>\n      <td>3</td>\n      <td>7.7</td>\n      <td>3</td>\n      <td>7.7</td>\n      <td>13</td>\n      <td>15.7</td>\n      <td>13</td>\n      <td>15.7</td>\n    </tr>\n    <tr>\n      <th>17</th>\n      <td>2019</td>\n      <td>경북</td>\n      <td>0</td>\n      <td>0</td>\n      <td>0</td>\n      <td>0</td>\n      <td>6</td>\n      <td>13</td>\n      <td>6</td>\n      <td>13</td>\n      <td>...</td>\n      <td>2</td>\n      <td>5.6</td>\n      <td>0</td>\n      <td>0</td>\n      <td>0</td>\n      <td>0</td>\n      <td>16</td>\n      <td>19.3</td>\n      <td>16</td>\n      <td>19.3</td>\n    </tr>\n    <tr>\n      <th>18</th>\n      <td>2019</td>\n      <td>경남</td>\n      <td>3</td>\n      <td>17.6</td>\n      <td>3</td>\n      <td>17.6</td>\n      <td>3</td>\n      <td>6.5</td>\n      <td>3</td>\n      <td>6.5</td>\n      <td>...</td>\n      <td>2</td>\n      <td>5.6</td>\n      <td>5</td>\n      <td>12.8</td>\n      <td>5</td>\n      <td>12.8</td>\n      <td>9</td>\n      <td>10.8</td>\n      <td>9</td>\n      <td>10.8</td>\n    </tr>\n    <tr>\n      <th>19</th>\n      <td>2019</td>\n      <td>제주</td>\n      <td>1</td>\n      <td>5.9</td>\n      <td>1</td>\n      <td>5.9</td>\n      <td>2</td>\n      <td>4.3</td>\n      <td>2</td>\n      <td>4.3</td>\n      <td>...</td>\n      <td>0</td>\n      <td>0</td>\n      <td>1</td>\n      <td>2.6</td>\n      <td>1</td>\n      <td>2.6</td>\n      <td>1</td>\n      <td>1.2</td>\n      <td>1</td>\n      <td>1.2</td>\n    </tr>\n  </tbody>\n</table>\n<p>90 rows × 22 columns</p>\n</div>"
     },
     "metadata": {},
     "execution_count": 383
    }
   ],
   "source": [
    "#csv파일 불러오기\n",
    "df =  pd.read_csv( './기관/공공의료기관_기능별_기관_수_2015-2019.csv' )\n",
    "\n",
    "#csv파일에 있는 연도들 추출\n",
    "year= df.columns\n",
    "\n",
    "# 단위 삭제\n",
    "df = df.drop(df.index[1])\n",
    "\n",
    "#데이터에 있는 연도들\n",
    "years = pd.DataFrame(year[(~year.str.contains('\\.'))]).drop(0)\n",
    "\n",
    "# 순서에 맞는 도시명 추출\n",
    "city=df.filter(regex='시도').drop(df.index[0])\n",
    "\n",
    "#빈 데이터프레임 생성\n",
    "postDf = pd.DataFrame\n",
    "\n",
    "flag = True\n",
    "# 가로로 생성되있는 값 변경!\n",
    "for year in pd.DataFrame(year[(~year.str.contains('\\.'))]).drop(0)[0]:\n",
    "    temp = df.filter(regex= year)\n",
    "    temp['year'] = year\n",
    "    temp['year'][0] = '연도'\n",
    "    temp.columns = temp.iloc[0]\n",
    "    temp = temp.drop(temp.index[0])\n",
    "    temp['시도'] = city\n",
    "    if flag:\n",
    "        postDf =temp.copy()        \n",
    "        flag = False\n",
    "    else :\n",
    "        postDf = postDf.append(temp)\n",
    "\n",
    "postDf =    postDf.drop(['총계'] ,axis =1) \n",
    "postDf = postDf[postDf.columns[-2:].to_list()+postDf.columns[:-2].to_list()]\n",
    "\n",
    "\n",
    "\n",
    "postDf.to_csv('./기관/Post_공공의료기관_기능별_기관_수_2015-2019.csv', encoding='utf-8-sig', index=False)\n",
    "postDf\n"
   ]
  },
  {
   "cell_type": "code",
   "execution_count": 388,
   "metadata": {
    "tags": []
   },
   "outputs": [
    {
     "output_type": "stream",
     "name": "stderr",
     "text": [
      "<ipython-input-388-019bef973a07>:25: SettingWithCopyWarning: \nA value is trying to be set on a copy of a slice from a DataFrame.\nTry using .loc[row_indexer,col_indexer] = value instead\n\nSee the caveats in the documentation: https://pandas.pydata.org/pandas-docs/stable/user_guide/indexing.html#returning-a-view-versus-a-copy\n  temp['year'] = year\nC:\\Users\\painc\\Anaconda3\\lib\\site-packages\\IPython\\core\\interactiveshell.py:3437: SettingWithCopyWarning: \nA value is trying to be set on a copy of a slice from a DataFrame\n\nSee the caveats in the documentation: https://pandas.pydata.org/pandas-docs/stable/user_guide/indexing.html#returning-a-view-versus-a-copy\n  exec(code_obj, self.user_global_ns, self.user_ns)\n"
     ]
    },
    {
     "output_type": "error",
     "ename": "InvalidIndexError",
     "evalue": "Reindexing only valid with uniquely valued Index objects",
     "traceback": [
      "\u001b[1;31m---------------------------------------------------------------------------\u001b[0m",
      "\u001b[1;31mInvalidIndexError\u001b[0m                         Traceback (most recent call last)",
      "\u001b[1;32m<ipython-input-388-019bef973a07>\u001b[0m in \u001b[0;36m<module>\u001b[1;34m\u001b[0m\n\u001b[0;32m     33\u001b[0m         \u001b[0mflag\u001b[0m \u001b[1;33m=\u001b[0m \u001b[1;32mFalse\u001b[0m\u001b[1;33m\u001b[0m\u001b[1;33m\u001b[0m\u001b[0m\n\u001b[0;32m     34\u001b[0m     \u001b[1;32melse\u001b[0m \u001b[1;33m:\u001b[0m\u001b[1;33m\u001b[0m\u001b[1;33m\u001b[0m\u001b[0m\n\u001b[1;32m---> 35\u001b[1;33m         \u001b[0mpostDf\u001b[0m \u001b[1;33m=\u001b[0m \u001b[0mpostDf\u001b[0m\u001b[1;33m.\u001b[0m\u001b[0mappend\u001b[0m\u001b[1;33m(\u001b[0m\u001b[0mtemp\u001b[0m\u001b[1;33m)\u001b[0m\u001b[1;33m\u001b[0m\u001b[1;33m\u001b[0m\u001b[0m\n\u001b[0m\u001b[0;32m     36\u001b[0m \u001b[1;33m\u001b[0m\u001b[0m\n\u001b[0;32m     37\u001b[0m \u001b[0mpostDf\u001b[0m\u001b[1;33m\u001b[0m\u001b[1;33m\u001b[0m\u001b[0m\n",
      "\u001b[1;32m~\\Anaconda3\\lib\\site-packages\\pandas\\core\\frame.py\u001b[0m in \u001b[0;36mappend\u001b[1;34m(self, other, ignore_index, verify_integrity, sort)\u001b[0m\n\u001b[0;32m   7980\u001b[0m             \u001b[0mto_concat\u001b[0m \u001b[1;33m=\u001b[0m \u001b[1;33m[\u001b[0m\u001b[0mself\u001b[0m\u001b[1;33m,\u001b[0m \u001b[0mother\u001b[0m\u001b[1;33m]\u001b[0m\u001b[1;33m\u001b[0m\u001b[1;33m\u001b[0m\u001b[0m\n\u001b[0;32m   7981\u001b[0m         return (\n\u001b[1;32m-> 7982\u001b[1;33m             concat(\n\u001b[0m\u001b[0;32m   7983\u001b[0m                 \u001b[0mto_concat\u001b[0m\u001b[1;33m,\u001b[0m\u001b[1;33m\u001b[0m\u001b[1;33m\u001b[0m\u001b[0m\n\u001b[0;32m   7984\u001b[0m                 \u001b[0mignore_index\u001b[0m\u001b[1;33m=\u001b[0m\u001b[0mignore_index\u001b[0m\u001b[1;33m,\u001b[0m\u001b[1;33m\u001b[0m\u001b[1;33m\u001b[0m\u001b[0m\n",
      "\u001b[1;32m~\\Anaconda3\\lib\\site-packages\\pandas\\core\\reshape\\concat.py\u001b[0m in \u001b[0;36mconcat\u001b[1;34m(objs, axis, join, ignore_index, keys, levels, names, verify_integrity, sort, copy)\u001b[0m\n\u001b[0;32m    296\u001b[0m     )\n\u001b[0;32m    297\u001b[0m \u001b[1;33m\u001b[0m\u001b[0m\n\u001b[1;32m--> 298\u001b[1;33m     \u001b[1;32mreturn\u001b[0m \u001b[0mop\u001b[0m\u001b[1;33m.\u001b[0m\u001b[0mget_result\u001b[0m\u001b[1;33m(\u001b[0m\u001b[1;33m)\u001b[0m\u001b[1;33m\u001b[0m\u001b[1;33m\u001b[0m\u001b[0m\n\u001b[0m\u001b[0;32m    299\u001b[0m \u001b[1;33m\u001b[0m\u001b[0m\n\u001b[0;32m    300\u001b[0m \u001b[1;33m\u001b[0m\u001b[0m\n",
      "\u001b[1;32m~\\Anaconda3\\lib\\site-packages\\pandas\\core\\reshape\\concat.py\u001b[0m in \u001b[0;36mget_result\u001b[1;34m(self)\u001b[0m\n\u001b[0;32m    514\u001b[0m                     \u001b[0mobj_labels\u001b[0m \u001b[1;33m=\u001b[0m \u001b[0mobj\u001b[0m\u001b[1;33m.\u001b[0m\u001b[0maxes\u001b[0m\u001b[1;33m[\u001b[0m\u001b[1;36m1\u001b[0m \u001b[1;33m-\u001b[0m \u001b[0max\u001b[0m\u001b[1;33m]\u001b[0m\u001b[1;33m\u001b[0m\u001b[1;33m\u001b[0m\u001b[0m\n\u001b[0;32m    515\u001b[0m                     \u001b[1;32mif\u001b[0m \u001b[1;32mnot\u001b[0m \u001b[0mnew_labels\u001b[0m\u001b[1;33m.\u001b[0m\u001b[0mequals\u001b[0m\u001b[1;33m(\u001b[0m\u001b[0mobj_labels\u001b[0m\u001b[1;33m)\u001b[0m\u001b[1;33m:\u001b[0m\u001b[1;33m\u001b[0m\u001b[1;33m\u001b[0m\u001b[0m\n\u001b[1;32m--> 516\u001b[1;33m                         \u001b[0mindexers\u001b[0m\u001b[1;33m[\u001b[0m\u001b[0max\u001b[0m\u001b[1;33m]\u001b[0m \u001b[1;33m=\u001b[0m \u001b[0mobj_labels\u001b[0m\u001b[1;33m.\u001b[0m\u001b[0mget_indexer\u001b[0m\u001b[1;33m(\u001b[0m\u001b[0mnew_labels\u001b[0m\u001b[1;33m)\u001b[0m\u001b[1;33m\u001b[0m\u001b[1;33m\u001b[0m\u001b[0m\n\u001b[0m\u001b[0;32m    517\u001b[0m \u001b[1;33m\u001b[0m\u001b[0m\n\u001b[0;32m    518\u001b[0m                 \u001b[0mmgrs_indexers\u001b[0m\u001b[1;33m.\u001b[0m\u001b[0mappend\u001b[0m\u001b[1;33m(\u001b[0m\u001b[1;33m(\u001b[0m\u001b[0mobj\u001b[0m\u001b[1;33m.\u001b[0m\u001b[0m_mgr\u001b[0m\u001b[1;33m,\u001b[0m \u001b[0mindexers\u001b[0m\u001b[1;33m)\u001b[0m\u001b[1;33m)\u001b[0m\u001b[1;33m\u001b[0m\u001b[1;33m\u001b[0m\u001b[0m\n",
      "\u001b[1;32m~\\Anaconda3\\lib\\site-packages\\pandas\\core\\indexes\\base.py\u001b[0m in \u001b[0;36mget_indexer\u001b[1;34m(self, target, method, limit, tolerance)\u001b[0m\n\u001b[0;32m   3169\u001b[0m \u001b[1;33m\u001b[0m\u001b[0m\n\u001b[0;32m   3170\u001b[0m         \u001b[1;32mif\u001b[0m \u001b[1;32mnot\u001b[0m \u001b[0mself\u001b[0m\u001b[1;33m.\u001b[0m\u001b[0mis_unique\u001b[0m\u001b[1;33m:\u001b[0m\u001b[1;33m\u001b[0m\u001b[1;33m\u001b[0m\u001b[0m\n\u001b[1;32m-> 3171\u001b[1;33m             raise InvalidIndexError(\n\u001b[0m\u001b[0;32m   3172\u001b[0m                 \u001b[1;34m\"Reindexing only valid with uniquely valued Index objects\"\u001b[0m\u001b[1;33m\u001b[0m\u001b[1;33m\u001b[0m\u001b[0m\n\u001b[0;32m   3173\u001b[0m             )\n",
      "\u001b[1;31mInvalidIndexError\u001b[0m: Reindexing only valid with uniquely valued Index objects"
     ]
    }
   ],
   "source": [
    "df =  pd.read_csv( '병실정보/시도별_병실_현황_2011_2019.csv' )\n",
    "for i in df.columns:\n",
    "    df[i] = df[i].apply(lambda x : 0  if x == '-' else x)\n",
    "\n",
    "\n",
    "#csv파일에 있는 연도들 추출\n",
    "year= df.columns\n",
    "\n",
    "# 단위 삭제\n",
    "df = df.drop(df.index[1:3])\n",
    "\n",
    "#데이터에 있는 연도들\n",
    "years = pd.DataFrame(year[(~year.str.contains('\\.'))]).drop(0)\n",
    "\n",
    "# 순서에 맞는 도시명 추출\n",
    "city=df.filter(regex='시도').drop(df.index[0])\n",
    "city.iloc[0] = '전국'\n",
    "\n",
    "flag = True\n",
    "\n",
    "#빈 데이터프레임 생성\n",
    "postDf = pd.DataFrame\n",
    "for year in pd.DataFrame(year[(~year.str.contains('\\.'))]).drop(0)[0]:\n",
    "    temp = df.filter(regex= year)\n",
    "    temp['year'] = year\n",
    "    temp['year'][0] = '연도'\n",
    "    temp.columns = temp.iloc[0]\n",
    "    temp = temp.drop(temp.index[0:2])\n",
    "    temp['시도'] = city\n",
    "    # print(temp)\n",
    "    if flag:\n",
    "        postDf =temp.copy()        \n",
    "        flag = False\n",
    "    else :\n",
    "        postDf = postDf.append(temp)\n",
    "\n",
    "postDf\n",
    "\n",
    "# postDf =    postDf.drop(['총계'] ,axis =1) \n",
    "# postDf = postDf[postDf.columns[-2:].to_list()+postDf.columns[:-2].to_list()]\n",
    "# postDf\n",
    " "
   ]
  },
  {
   "cell_type": "code",
   "execution_count": null,
   "metadata": {},
   "outputs": [],
   "source": []
  }
 ]
}