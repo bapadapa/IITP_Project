{
 "cells": [
  {
   "cell_type": "code",
   "execution_count": null,
   "id": "3fd282d4",
   "metadata": {
    "scrolled": true
   },
   "outputs": [],
   "source": [
    "import dash\n",
    "import dash_html_components as html\n",
    "import dash_core_components as dcc\n",
    "\n",
    "external_stylesheets = ['https://codepen.io/chriddyp/pen/bWLwgP.css']\n",
    "\n",
    "app = dash.Dash(__name__, external_stylesheets=external_stylesheets)\n",
    "\n",
    "year_marks = {}\n",
    "for i in range(2002,2026,1):\n",
    "    year_marks[i] = f'{i}년'\n",
    "    \n",
    "app.layout = html.Div([\n",
    "    dcc.RangeSlider(\n",
    "        id='year-slider',\n",
    "        min=2002,\n",
    "        max=2025,\n",
    "        step=None,\n",
    "        marks=year_marks,\n",
    "        value=[2002, 2019]\n",
    "    ),\n",
    "    html.Div(id='year-container')\n",
    "])\n",
    "\n",
    "@app.callback(\n",
    "    dash.dependencies.Output('year-container', 'children'),\n",
    "    [dash.dependencies.Input('year-slider', 'value')])\n",
    "def this_is_callBack(value):\n",
    "    return '년도는 \"{}\"'.format(value)\n",
    "\n",
    "if __name__ == '__main__':\n",
    "    app.run_server(debug=True, use_reloader=False,port=9404)\n"
   ]
  },
  {
   "cell_type": "code",
   "execution_count": 40,
   "id": "2d6175c4",
   "metadata": {},
   "outputs": [
    {
     "data": {
      "text/plain": [
       "24"
      ]
     },
     "execution_count": 40,
     "metadata": {},
     "output_type": "execute_result"
    }
   ],
   "source": [
    "year_marks = {}\n",
    "for i in range(2002,2026,1):\n",
    "    year_marks[i] = f'{i}년'\n",
    "len(year_marks)"
   ]
  },
  {
   "cell_type": "code",
   "execution_count": 70,
   "id": "74c3edfe",
   "metadata": {},
   "outputs": [],
   "source": [
    "import geopandas"
   ]
  }
 ],
 "metadata": {
  "kernelspec": {
   "display_name": "Python 3",
   "language": "python",
   "name": "python3"
  },
  "language_info": {
   "codemirror_mode": {
    "name": "ipython",
    "version": 3
   },
   "file_extension": ".py",
   "mimetype": "text/x-python",
   "name": "python",
   "nbconvert_exporter": "python",
   "pygments_lexer": "ipython3",
   "version": "3.8.0"
  }
 },
 "nbformat": 4,
 "nbformat_minor": 5
}
