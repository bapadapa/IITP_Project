{
 "cells": [
  {
   "cell_type": "markdown",
   "source": [
    "# 데이터 수집 및 전처리"
   ],
   "metadata": {}
  },
  {
   "cell_type": "markdown",
   "source": [
    "# 데이터 병합\r\n",
    "\r\n",
    "## 데이터셋 목록 (출처, 데이터명, 컬럼명, 데이터시작지점, 최종지점, 수집주기 등) \r\n",
    "\r\n",
    "|활용|파일명|데이터|시작 시점|최종지점|수집주기|기준일|\r\n",
    "|-|-|-|-|-|-|-|\r\n",
    "|범죄 발생 건수 집계|crime_location.csv|2010|2020|1년|2021|\r\n",
    "|<font color = 'gray'>사회적 요소 집계 <font/>|income_level_by_region.csv|2000|2019|1년|2021|\r\n",
    "|<font color = 'gray'>사회적 요소 집계 <font/>|economic_activity_by_region.csv|2000|2020|1년|2021|\r\n",
    "|<font color = 'gray'>사회적 요소 집계 <font/>|olice_officer_num_by_region.csv|2009|2017|1년|2021|\r\n",
    "|인구적 요소|population_by_region.csv|1992|2020|1년|2021|\r\n",
    "|인구적 요소|population_movement_by_region.csv|2001|2020|1년|2021|\r\n",
    "|인구적 요소|외국인_거주자.csv|2003|2020|1년|2021|\r\n",
    "|<font color = 'gray'>공간적 요소 집계<font/>|local_data.csv|2000|2020|1년|2021|\r\n",
    "|<font color = 'gray'>공간적 요소 집계<font/>|universities_by_region.csv|2003|2020|1년|2021|\r\n",
    "|기타 요인|시도_산업_조직형태별_사업체수_종사자수.csv|2000|2019|1년|2021|\r\n",
    "|기타 요인|number_of_psychotropic_drug_requests_by_region.csv|2010|2020|1년|2021|\r\n",
    "\r\n",
    "\r\n",
    "\r\n"
   ],
   "metadata": {}
  },
  {
   "cell_type": "markdown",
   "source": [
    "## 필요 라이브러리, 데이터 불러오기 및 경로 설정"
   ],
   "metadata": {}
  },
  {
   "cell_type": "code",
   "execution_count": 2,
   "source": [
    "import pandas as pd\r\n",
    "import os\r\n",
    "import matplotlib.pyplot as plt\r\n",
    "from matplotlib import font_manager,rc\r\n",
    "import seaborn as sns\r\n",
    "from sklearn.preprocessing import minmax_scale\r\n",
    "from pyarrow import csv\r\n",
    "import json"
   ],
   "outputs": [],
   "metadata": {}
  },
  {
   "cell_type": "code",
   "execution_count": 19,
   "source": [
    "data_path ='../data/'\r\n",
    "# Json 파일 읽어오기\r\n",
    "def read_json(jsonPath ,mod = 'r',encoding ='utf-8'):\r\n",
    "    with open(jsonPath, mod, encoding = encoding) as common:\r\n",
    "        config = json.load(common)\r\n",
    "    return config\r\n",
    "config = read_json(data_path + \"json/config.json\")"
   ],
   "outputs": [],
   "metadata": {}
  },
  {
   "cell_type": "markdown",
   "source": [
    "## 공간적 요소 병합"
   ],
   "metadata": {}
  },
  {
   "cell_type": "code",
   "execution_count": 19,
   "source": [
    "local_path = config['data_path']+ 'csv/localData/cleaned/'\r\n",
    "\r\n",
    "flag = True\r\n",
    "for fileN in os.listdir(local_path):\r\n",
    "    readed_file = csv.read_csv(local_path +fileN).to_pandas()\r\n",
    "    readed_file = readed_file.dropna()\r\n",
    "    tmp = pd.DataFrame(columns=['시도','년도',readed_file.columns[-1]])\r\n",
    "    for city in readed_file.시도.unique():\r\n",
    "        for year in readed_file[readed_file.시도 == city].연도.unique():\r\n",
    "            tmp= tmp.append(pd.Series(\r\n",
    "                [\r\n",
    "                    city,\r\n",
    "                    year,\r\n",
    "                    readed_file[((readed_file.시도 == city) & (readed_file.연도== year))].iloc[:,-1].sum()\r\n",
    "                    ] , index = tmp.columns)\r\n",
    "                ,ignore_index= True)\r\n",
    "    if flag :\r\n",
    "        result = tmp.copy()\r\n",
    "        flag = False\r\n",
    "        continue\r\n",
    "    \r\n",
    "    result = pd.merge(result, tmp, left_on=['시도','년도'], right_on=['시도','년도'], how='left')\r\n",
    "result = result.fillna(0) \r\n",
    "# 병합할 칼럼들 ( 유사 의미를 가지고 있는 칼럼 병합)\r\n",
    "restrant = ['일반음식점','휴게음식점','관광식당']\r\n",
    "bar = ['단란주점', '유흥주점', '외국인전용유흥음식점업']\r\n",
    "\r\n",
    "result['음식점'] =result[restrant].sum(axis = 1)\r\n",
    "result['유흥가'] = result[bar].sum(axis = 1)\r\n",
    "#병합된 칼럼 제거\r\n",
    "result = result.drop(restrant+bar,axis= 1)\r\n",
    "\r\n",
    "# 단위개 개수이기 때문에 소수점 제거\r\n",
    "result.iloc[:,1:] = result.iloc[:,1:].astype(int)\r\n",
    "\r\n",
    "result.to_csv(config['data_path']+ 'csv/semicleaned/local.csv',encoding='utf-8-sig',index=False)"
   ],
   "outputs": [],
   "metadata": {}
  },
  {
   "cell_type": "markdown",
   "source": [
    "## 범죄 발생지 병합"
   ],
   "metadata": {}
  },
  {
   "cell_type": "code",
   "execution_count": 28,
   "source": [
    "# 범죄 발생지 병합\r\n",
    "merged_df = pd.DataFrame()\r\n",
    "flag = True\r\n",
    "for fp in os.listdir(config['data_path']+ 'csv/crime_location'):     \r\n",
    "    merged_csv = csv.read_csv(config['data_path']+ 'csv/crime_location/'+fp).to_pandas()\r\n",
    "    merged_csv['시도'] = merged_csv['시도'].map(config['cities_mapping'])\r\n",
    "    if flag :\r\n",
    "        merged_df = merged_csv\r\n",
    "        flag = False\r\n",
    "    else:\r\n",
    "        merged_df = pd.concat([merged_df,merged_csv], ignore_index=True)\r\n",
    "\r\n",
    "# 데이터 병합\r\n",
    "merged_df['폭행'] = merged_df['폭행'].add(merged_df['상해'])\r\n",
    "merged_df['공갈'] = merged_df['공갈'].add(merged_df['협박'])\r\n",
    "merged_df = merged_df.drop(['상해','협박'],axis=1)\r\n",
    "merged_df = merged_df.rename(columns={'폭행':'폭행및상해','공갈':'공갈및협박'})\r\n",
    "\r\n",
    "\r\n",
    "\r\n",
    "# -로 저장되어있는 값들 NA값으로 변경\r\n",
    "def cleaning(x) :\r\n",
    "  if str(x).find(\"-\") != -1 :\r\n",
    "    return str(x).replace(\"-\",'')\r\n",
    "  return x\r\n",
    "\r\n",
    "for colName in merged_df.columns:\r\n",
    "    merged_df[colName] = merged_df[colName].apply(cleaning)\r\n",
    "\r\n",
    "# result.drop_duplicates()\r\n",
    "merged_df.drop_duplicates().to_csv(config['data_path']+ 'csv/semicleaned/crime_location.csv',encoding='utf-8-sig',index=False)\r\n"
   ],
   "outputs": [],
   "metadata": {}
  },
  {
   "cell_type": "markdown",
   "source": [
    "## 모든 데이터 병합\r\n",
    "\r\n",
    "### 제거한 데이터\r\n",
    "\r\n",
    "- 실질적 일반 사람에게 피해가 없는 `범죄 파라미터` 제거\r\n",
    "- 특정 대학의 수는 의미가 없다 판단하여 대학교 총계를 제외한 `대학수 제거`\r\n",
    "- 성비를 이용한 인구수는 기타 데이터와 연계시 데이터 부족에 의하여 제거 `성별로 나누어진 데이터 제거`\r\n",
    "- 시도간 전입,전출 칼럼을 보유하면 기다 전입 `전출 데이터`가 불필요하다 판단이 되어 제거"
   ],
   "metadata": {}
  },
  {
   "cell_type": "code",
   "execution_count": 29,
   "source": [
    "# 모든 데이터 병합\r\n",
    "result = pd.DataFrame()\r\n",
    "flag = True\r\n",
    "for fp in os.listdir(config['data_path']+ 'csv/semicleaned'):\r\n",
    "    \r\n",
    "    merged_csv = csv.read_csv(config['data_path']+ 'csv/semicleaned/'+fp).to_pandas()\r\n",
    "    merged_csv['시도'] = merged_csv['시도'].map(config['cities_mapping'])\r\n",
    "    if flag :\r\n",
    "        result = merged_csv\r\n",
    "        flag = False\r\n",
    "    else:\r\n",
    "        result = pd.merge(\r\n",
    "            result, merged_csv,\r\n",
    "            left_on=['년도','시도'],\r\n",
    "            right_on=['년도','시도'],\r\n",
    "            how='left')\r\n",
    "# 만약 중복되어 삽입된 행이 있다면 제거\r\n",
    "result.drop_duplicates()\r\n",
    "# 불필요하다 판단된 칼럼 제거\r\n",
    "result = result.drop(config['dropCols'],axis = 1).drop_duplicates()\r\n",
    "result.to_csv(config['data_path']+ 'csv/cleaned/crime_merged.csv',encoding='utf-8-sig',index=False)"
   ],
   "outputs": [],
   "metadata": {}
  },
  {
   "cell_type": "markdown",
   "source": [
    "## 범죄별 인덱싱"
   ],
   "metadata": {}
  },
  {
   "cell_type": "code",
   "execution_count": 31,
   "source": [
    "merged_df = csv.read_csv(config['data_path']+ 'csv/cleaned/crime_merged.csv').to_pandas()\r\n",
    "merged_df.columns[2:15]"
   ],
   "outputs": [
    {
     "output_type": "execute_result",
     "data": {
      "text/plain": [
       "Index(['절도', '살인', '강도', '방화', '성폭력', '폭행및상해', '공갈및협박', '약취와 유인', '체포와 감금',\n",
       "       '주거침입', '유기', '공무방해', '도주와범인은닉'],\n",
       "      dtype='object')"
      ]
     },
     "metadata": {},
     "execution_count": 31
    }
   ],
   "metadata": {}
  },
  {
   "cell_type": "code",
   "execution_count": 53,
   "source": [
    "merged_df = csv.read_csv(config['data_path']+ 'csv/cleaned/crime_merged.csv').to_pandas()\r\n",
    "# 범죄 소계 데이터가 2002 ~ 2019까지 있기 떄문에 그 이외의 데이터 제거\r\n",
    "merged_df = merged_df[(merged_df.년도 >=2002)& (merged_df.년도 <=2019)]\r\n",
    "\r\n",
    "\r\n",
    "yearNcities_name= merged_df.columns[:2].to_list()\r\n",
    "crimes = merged_df.columns[2:15].to_list()\r\n",
    "indiventent_val_name = merged_df.columns[17:].to_list()\r\n",
    "idx = 0\r\n",
    "# 범죄 소계로 초기화\r\n",
    "\r\n",
    "crime_Specification=pd.DataFrame([[idx,'범죄소계']],columns = ['idx','범죄명'])\r\n",
    "\r\n",
    "result = merged_df[yearNcities_name + indiventent_val_name]\r\n",
    "result['범죄수'] = merged_df[crimes].sum(axis = 1)\r\n",
    "result['범죄종류'] = idx\r\n",
    "result = result[yearNcities_name + ['범죄종류','범죄수'] + indiventent_val_name]\r\n",
    "idx+=1\r\n",
    "\r\n",
    "for crime_name in  crimes:\r\n",
    "    for_Merge = merged_df[yearNcities_name + [crime_name] + indiventent_val_name]\r\n",
    "    for_Merge = for_Merge.rename(columns={crime_name:'범죄수'})\r\n",
    "    for_Merge['범죄종류'] = idx   \r\n",
    "\r\n",
    "    crime_Specification = crime_Specification.append(pd.Series(\r\n",
    "            [\r\n",
    "                idx,\r\n",
    "                crime_name\r\n",
    "            ] , index = crime_Specification.columns)\r\n",
    "            ,ignore_index= True)\r\n",
    "    result =pd.concat(\r\n",
    "        [\r\n",
    "        result,\r\n",
    "        for_Merge[yearNcities_name + ['범죄종류','범죄수'] + indiventent_val_name]\r\n",
    "        ],\r\n",
    "        ignore_index=True)\r\n",
    "    idx+=1\r\n",
    "result.to_csv(config['data_path']+ 'csv/cleaned/crime_indexed.csv',encoding='utf-8-sig',index=False)\r\n",
    "crime_Specification.to_csv(config['data_path']+ 'csv/cleaned/crime_Specification.csv',encoding='utf-8-sig',index=False)\r\n"
   ],
   "outputs": [
    {
     "output_type": "stream",
     "name": "stderr",
     "text": [
      "<ipython-input-53-65bc958489c4>:15: SettingWithCopyWarning: \n",
      "A value is trying to be set on a copy of a slice from a DataFrame.\n",
      "Try using .loc[row_indexer,col_indexer] = value instead\n",
      "\n",
      "See the caveats in the documentation: https://pandas.pydata.org/pandas-docs/stable/user_guide/indexing.html#returning-a-view-versus-a-copy\n",
      "  result['범죄수'] = merged_df[crimes].sum(axis = 1)\n",
      "<ipython-input-53-65bc958489c4>:16: SettingWithCopyWarning: \n",
      "A value is trying to be set on a copy of a slice from a DataFrame.\n",
      "Try using .loc[row_indexer,col_indexer] = value instead\n",
      "\n",
      "See the caveats in the documentation: https://pandas.pydata.org/pandas-docs/stable/user_guide/indexing.html#returning-a-view-versus-a-copy\n",
      "  result['범죄종류'] = idx\n"
     ]
    }
   ],
   "metadata": {}
  }
 ],
 "metadata": {
  "orig_nbformat": 4,
  "language_info": {
   "name": "python",
   "version": "3.8.0",
   "mimetype": "text/x-python",
   "codemirror_mode": {
    "name": "ipython",
    "version": 3
   },
   "pygments_lexer": "ipython3",
   "nbconvert_exporter": "python",
   "file_extension": ".py"
  },
  "kernelspec": {
   "name": "python3",
   "display_name": "Python 3.8.0 64-bit ('iitp_keras': conda)"
  },
  "interpreter": {
   "hash": "c4409229afdb447283b42faeee1bfbefcd5f4f3487cbb679b593e138b99762ae"
  }
 },
 "nbformat": 4,
 "nbformat_minor": 2
}