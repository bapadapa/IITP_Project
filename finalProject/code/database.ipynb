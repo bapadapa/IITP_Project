{
 "cells": [
  {
   "cell_type": "markdown",
   "metadata": {},
   "source": [
    "# Docker DB서버와 연동"
   ]
  },
  {
   "cell_type": "code",
   "execution_count": 1,
   "metadata": {},
   "outputs": [],
   "source": [
    "import cx_Oracle\n",
    "import pandas as pd\n",
    "import json\n",
    "from pyarrow import csv\n",
    "import numpy as np"
   ]
  },
  {
   "cell_type": "code",
   "execution_count": 2,
   "metadata": {},
   "outputs": [],
   "source": [
    "data_path ='../data/'\n",
    "# Json 파일 읽어오기\n",
    "def read_json(jsonPath ,mod = 'r',encoding ='utf-8'):\n",
    "    with open(jsonPath, mod, encoding = encoding) as common:\n",
    "        config = json.load(common)\n",
    "    return config\n",
    "config = read_json(data_path + \"json/config.json\")"
   ]
  },
  {
   "cell_type": "markdown",
   "metadata": {},
   "source": [
    "## Oracle 접속"
   ]
  },
  {
   "cell_type": "code",
   "execution_count": 4,
   "metadata": {},
   "outputs": [],
   "source": [
    "CONN_INFO = {\n",
    "        'NAME': 'XEPDB1',\n",
    "        'USER': 'iitp',\n",
    "        'PASSWORD': 'iitp',\n",
    "        # 'HOST': '172.16.5.231',\n",
    "        'HOST': '172.16.0.25',\n",
    "        'PORT': '11521',\n",
    "}\n",
    "CONN_STR = '{USER}/{PASSWORD}@{HOST}:{PORT}/{NAME}'.format(**CONN_INFO)\n",
    "conn = cx_Oracle.connect(CONN_STR)\n",
    "cursor = conn.cursor()"
   ]
  },
  {
   "cell_type": "code",
   "execution_count": 5,
   "metadata": {},
   "outputs": [],
   "source": [
    "\n",
    "def clean_colName(colNames,col_name = '시도,년도',val_cnt = ':1,:2',tmp_cnt = 3):\n",
    "    tabel_cols = '시도 varchar2(38), 년도 varchar2(38)'\n",
    "    for cols in colNames:\n",
    "        cols = cols.replace(' (%)', '')\n",
    "        cols = cols.replace(' (명)', '')\n",
    "        cols = cols.replace('[명]', '')\n",
    "        cols = cols.replace('[백분율]', '')\n",
    "        cols = cols.replace(')', '')\n",
    "        cols = cols.replace('(', '_')\n",
    "        cols = cols.replace(' ', '_')\n",
    "        cols = cols.replace('1', '')\n",
    "        col_name+= f',{cols}'\n",
    "        tabel_cols+= f', {cols} varchar2(38)'\n",
    "        val_cnt += f',:{tmp_cnt}'\n",
    "\n",
    "        tmp_cnt+=1 \n",
    "    return col_name,val_cnt,tabel_cols\n",
    "    "
   ]
  },
  {
   "cell_type": "markdown",
   "metadata": {},
   "source": [
    "# 필요 Table Create 및 "
   ]
  },
  {
   "cell_type": "markdown",
   "metadata": {},
   "source": [
    "## 명세 테이블 생성 및 삽입"
   ]
  },
  {
   "cell_type": "code",
   "execution_count": 75,
   "metadata": {},
   "outputs": [],
   "source": [
    "# 시도 코드 명세 테이블 생성\n",
    "try :\n",
    "    cursor.execute(\"\"\"\n",
    "        DROP TABLE sido_code \n",
    "    \"\"\")\n",
    "except:\n",
    "    pass    \n",
    "finally:   \n",
    "    cursor.execute(\"\"\"\n",
    "        CREATE TABLE sido_code ( \n",
    "            code    NUMBER(4)\tNOT NULL,\n",
    "            eng_name    VARCHAR2(20) NOT NULL, \n",
    "            kor_name    VARCHAR2(6) primary key\n",
    "        )\n",
    "    \"\"\") \n",
    "    # 값 삽입\n",
    "    df = csv.read_csv(config['data_path']+ 'csv/specification/sido_code.csv').to_pandas()\n",
    "    sql = \"\"\"insert into sido_code(code,eng_name,kor_name)\n",
    "             values (:1,:2,:3)\"\"\"         \n",
    "    val = list(map(tuple,df.values.tolist()))\n",
    "    cursor.executemany(sql,val)\n",
    "    conn.commit()"
   ]
  },
  {
   "cell_type": "code",
   "execution_count": 156,
   "metadata": {},
   "outputs": [],
   "source": [
    "# 범죄 명세 테이블 생성\n",
    "\n",
    "try :\n",
    "    cursor.execute(\"\"\"\n",
    "        DROP TABLE crime_Specification \n",
    "    \"\"\")\n",
    "except:\n",
    "    pass\n",
    "        \n",
    "finally:\n",
    "    cursor.execute(\"\"\"\n",
    "        CREATE TABLE crime_Specification ( \n",
    "            code    NUMBER(4)\tNOT NULL,\n",
    "            crime_name    VARCHAR2(30) primary key\n",
    "        )\n",
    "    \"\"\")\n",
    "    # 값 삽입\n",
    "    df = csv.read_csv(config['data_path']+ 'csv/specification/crime_Specification.csv').to_pandas()\n",
    "    sql = \"\"\"insert into crime_Specification(code,crime_name)\n",
    "             values (:1,:2)\"\"\"         \n",
    "    val = list(map(tuple,df.values.tolist()))\n",
    "    cursor.executemany(sql,val)\n",
    "    conn.commit()"
   ]
  },
  {
   "cell_type": "markdown",
   "metadata": {},
   "source": [
    "## corr를 이용하여 추출한 칼럼리스트 "
   ]
  },
  {
   "cell_type": "code",
   "execution_count": 187,
   "metadata": {},
   "outputs": [
    {
     "data": {
      "text/html": [
       "<div>\n",
       "<style scoped>\n",
       "    .dataframe tbody tr th:only-of-type {\n",
       "        vertical-align: middle;\n",
       "    }\n",
       "\n",
       "    .dataframe tbody tr th {\n",
       "        vertical-align: top;\n",
       "    }\n",
       "\n",
       "    .dataframe thead th {\n",
       "        text-align: right;\n",
       "    }\n",
       "</style>\n",
       "<table border=\"1\" class=\"dataframe\">\n",
       "  <thead>\n",
       "    <tr style=\"text-align: right;\">\n",
       "      <th></th>\n",
       "      <th>시도</th>\n",
       "      <th>범죄</th>\n",
       "      <th>칼럼리스트</th>\n",
       "    </tr>\n",
       "  </thead>\n",
       "  <tbody>\n",
       "    <tr>\n",
       "      <th>0</th>\n",
       "      <td>42</td>\n",
       "      <td>살인</td>\n",
       "      <td>['경제활동인구', '취업자', '고용률 (%)', '실업자', '1인당 지역내총생...</td>\n",
       "    </tr>\n",
       "    <tr>\n",
       "      <th>1</th>\n",
       "      <td>42</td>\n",
       "      <td>성폭력</td>\n",
       "      <td>['경제활동인구', '취업자', '실업자', '실업률 (%)', '1인당 지역내총생...</td>\n",
       "    </tr>\n",
       "    <tr>\n",
       "      <th>2</th>\n",
       "      <td>42</td>\n",
       "      <td>폭행</td>\n",
       "      <td>['이혼율', '경제활동인구', '취업자', '고용률 (%)', '실업자', '1인...</td>\n",
       "    </tr>\n",
       "    <tr>\n",
       "      <th>3</th>\n",
       "      <td>42</td>\n",
       "      <td>상해</td>\n",
       "      <td>['실업자', '실업률 (%)', '경찰청 소속 경찰관 수']</td>\n",
       "    </tr>\n",
       "    <tr>\n",
       "      <th>4</th>\n",
       "      <td>42</td>\n",
       "      <td>협박</td>\n",
       "      <td>['경제활동인구', '취업자', '고용률 (%)', '실업자', '실업률 (%)',...</td>\n",
       "    </tr>\n",
       "    <tr>\n",
       "      <th>...</th>\n",
       "      <td>...</td>\n",
       "      <td>...</td>\n",
       "      <td>...</td>\n",
       "    </tr>\n",
       "    <tr>\n",
       "      <th>177</th>\n",
       "      <td>36</td>\n",
       "      <td>약취와 유인</td>\n",
       "      <td>['1인당 지역내총생산', '1인당 민간소비', 'PC방', '음식점', '유흥가'...</td>\n",
       "    </tr>\n",
       "    <tr>\n",
       "      <th>178</th>\n",
       "      <td>36</td>\n",
       "      <td>주거침입</td>\n",
       "      <td>['1인당 지역내총생산', '1인당 지역총소득', '1인당 개인소득', '1인당 민...</td>\n",
       "    </tr>\n",
       "    <tr>\n",
       "      <th>179</th>\n",
       "      <td>36</td>\n",
       "      <td>유기</td>\n",
       "      <td>['1인당 지역내총생산', '1인당 민간소비', 'PC방', '음식점', '유흥가'...</td>\n",
       "    </tr>\n",
       "    <tr>\n",
       "      <th>180</th>\n",
       "      <td>36</td>\n",
       "      <td>공무방해</td>\n",
       "      <td>['1인당 지역내총생산', '1인당 지역총소득', '유흥가', '향정신성의약품 청구...</td>\n",
       "    </tr>\n",
       "    <tr>\n",
       "      <th>181</th>\n",
       "      <td>36</td>\n",
       "      <td>범죄 합계</td>\n",
       "      <td>['이혼율', '1인당 개인소득', 'PC방', '음식점', '유흥가', '경찰청 ...</td>\n",
       "    </tr>\n",
       "  </tbody>\n",
       "</table>\n",
       "<p>182 rows × 3 columns</p>\n",
       "</div>"
      ],
      "text/plain": [
       "     시도      범죄                                              칼럼리스트\n",
       "0    42      살인  ['경제활동인구', '취업자', '고용률 (%)', '실업자', '1인당 지역내총생...\n",
       "1    42     성폭력  ['경제활동인구', '취업자', '실업자', '실업률 (%)', '1인당 지역내총생...\n",
       "2    42      폭행  ['이혼율', '경제활동인구', '취업자', '고용률 (%)', '실업자', '1인...\n",
       "3    42      상해                 ['실업자', '실업률 (%)', '경찰청 소속 경찰관 수']\n",
       "4    42      협박  ['경제활동인구', '취업자', '고용률 (%)', '실업자', '실업률 (%)',...\n",
       "..   ..     ...                                                ...\n",
       "177  36  약취와 유인  ['1인당 지역내총생산', '1인당 민간소비', 'PC방', '음식점', '유흥가'...\n",
       "178  36    주거침입  ['1인당 지역내총생산', '1인당 지역총소득', '1인당 개인소득', '1인당 민...\n",
       "179  36      유기  ['1인당 지역내총생산', '1인당 민간소비', 'PC방', '음식점', '유흥가'...\n",
       "180  36    공무방해  ['1인당 지역내총생산', '1인당 지역총소득', '유흥가', '향정신성의약품 청구...\n",
       "181  36   범죄 합계  ['이혼율', '1인당 개인소득', 'PC방', '음식점', '유흥가', '경찰청 ...\n",
       "\n",
       "[182 rows x 3 columns]"
      ]
     },
     "execution_count": 187,
     "metadata": {},
     "output_type": "execute_result"
    }
   ],
   "source": [
    "sido = pd.read_sql(\"select * from sido_code\",con=conn) \n",
    "crime_Specification = pd.read_sql(\"select * from crime_Specification\",con=conn) \n",
    "corr_csv = csv.read_csv(config['data_path']+ 'csv/corr/colList.csv').to_pandas()\n",
    "corr_csv['시도'] = corr_csv['시도'].map(sido.set_index('KOR_NAME').to_dict()['CODE'])\n",
    "corr_csv['범죄'] = corr_csv['범죄'].map(crime_Specification.set_index('CRIME_NAME').to_dict()['CODE'])\n",
    "aa = corr_csv.dropna()\n",
    "aa"
   ]
  },
  {
   "cell_type": "code",
   "execution_count": null,
   "metadata": {},
   "outputs": [],
   "source": [
    "# Top5 Corr 테이블 생성\n",
    "corr_csv = csv.read_csv(config['data_path']+ 'csv/cleaned/Top_Five_Cols.csv').to_pandas()\n",
    "corr_csv['범죄'] = corr_csv['범죄'].map(crime_Specification.set_index('CRIME_NAME').to_dict()['CODE'])\n",
    "\n",
    "try :\n",
    "    cursor.execute(\"\"\"\n",
    "        DROP TABLE topFiveCols\n",
    "    \"\"\")\n",
    "except:\n",
    "    pass        \n",
    "finally:\n",
    "    corr_csv = csv.read_csv(config['data_path']+ 'csv/cleaned/Top_Five_Cols.csv').to_pandas()\n",
    "    corr_csv['범죄'] = corr_csv['범죄'].map(crime_Specification.set_index('CRIME_NAME').to_dict()['CODE'])\n",
    "    \n",
    "    cursor.execute(f'create table topFiveCols ( code NUMBER(4)\tPRIMARY KEY, colList    VARCHAR2(150) NOT NULL  )')     \n",
    "    sql = 'insert into topFiveCols( code, colList) values (:1,:2)' \n",
    "    corr_csv = corr_csv.astype(str).fillna('').drop_duplicates()\n",
    "    val = list(map(tuple,corr_csv.values.tolist()))\n",
    "    cursor.executemany(sql,val)\n",
    "    conn.commit()"
   ]
  },
  {
   "cell_type": "markdown",
   "metadata": {},
   "source": [
    "## 정제된 데이터 테이블 생성 및 삽입"
   ]
  },
  {
   "cell_type": "code",
   "execution_count": 6,
   "metadata": {},
   "outputs": [],
   "source": [
    "# 시도 코드 맵핑\n",
    "sido = pd.read_sql(\"select * from sido_code\",con=conn) \n",
    "merged_csv = csv.read_csv(config['data_path']+ 'csv/cleaned/crime_indexed.csv').to_pandas()\n",
    "merged_csv['시도'] = merged_csv['시도'].map(sido.set_index('KOR_NAME').to_dict()['CODE'])\n",
    "crime = merged_csv.iloc[:,:4]\n",
    "crime = crime.astype(str).fillna('')"
   ]
  },
  {
   "cell_type": "code",
   "execution_count": 141,
   "metadata": {},
   "outputs": [],
   "source": [
    "# 범죄 테이블 생성\n",
    "\n",
    "try :\n",
    "    cursor.execute(\"\"\"\n",
    "        DROP TABLE crime \n",
    "    \"\"\")\n",
    "except:\n",
    "    pass        \n",
    "finally:\n",
    "    cursor.execute(\"\"\"\n",
    "        create table crime ( \n",
    "            시도    varchar2(38) ,\n",
    "            년도    varchar2(38) ,\n",
    "            범죄종류    varchar2(38),\n",
    "            범죄수    varchar2(38)\n",
    "        )\n",
    "    \"\"\")    \n",
    "    sql = \"\"\"insert into crime(시도 ,년도 ,범죄종류 ,범죄수)\n",
    "             values (:1,:2,:3,:4)\"\"\"     \n",
    "    val = list(map(tuple,crime.values.tolist()))\n",
    "    cursor.executemany(sql,val)\n",
    "    conn.commit()\n",
    "    "
   ]
  },
  {
   "cell_type": "code",
   "execution_count": 142,
   "metadata": {},
   "outputs": [],
   "source": [
    "# 종속변수 테이블 생성\n",
    "raw_ind =csv.read_csv(config['data_path']+ 'csv/cleaned/crime_merged.csv').to_pandas()\n",
    "raw_ind = pd.concat([raw_ind[raw_ind.columns[:2]],raw_ind[raw_ind.columns[15:]]],axis = 1)\n",
    "raw_ind['시도'] = raw_ind['시도'].map(sido.set_index('KOR_NAME').to_dict()['CODE'])\n",
    "\n",
    "try :\n",
    "    cursor.execute(\"\"\"\n",
    "        DROP TABLE independent_val \n",
    "    \"\"\")\n",
    "except:\n",
    "    pass        \n",
    "finally:\n",
    "    col_name , val_cnt,tabel_cols= clean_colName(raw_ind.columns[2:])\n",
    "    cursor.execute(f'create table independent_val ( {tabel_cols} )')     \n",
    "    sql = f'insert into independent_val( {col_name} ) values ( {val_cnt} )' \n",
    "    indi_val = raw_ind.astype(str).fillna('').drop_duplicates()\n",
    "    val = list(map(tuple,indi_val.values.tolist()))\n",
    "    cursor.executemany(sql,val)\n",
    "    conn.commit()\n",
    "    "
   ]
  },
  {
   "cell_type": "code",
   "execution_count": 15,
   "metadata": {},
   "outputs": [
    {
     "data": {
      "text/plain": [
       "array([2002, 2003, 2004, 2005, 2006, 2007, 2008, 2009, 2010, 2011, 2012,\n",
       "       2013, 2014, 2015, 2016, 2017, 2018, 2019, 2020, 2021, 2022, 2023,\n",
       "       2024, 2025, 2026, 2027, 2028, 2029, 2030], dtype=int64)"
      ]
     },
     "execution_count": 15,
     "metadata": {},
     "output_type": "execute_result"
    }
   ],
   "source": [
    "na_filled_zero =csv.read_csv(config['data_path']+ 'csv/cleaned/independent/to_zero.csv').to_pandas()\n",
    "na_filled_zero['시도'] = na_filled_zero['시도'].map(sido.set_index('KOR_NAME').to_dict()['CODE'])\n",
    "na_filled_zero.년도.unique()"
   ]
  },
  {
   "cell_type": "code",
   "execution_count": 18,
   "metadata": {},
   "outputs": [],
   "source": [
    "#  결측갑 처리후 예측한 종속변수\n",
    "na_filled_zero =csv.read_csv(config['data_path']+ 'csv/cleaned/independent/to_zero.csv').to_pandas()\n",
    "na_filled_zero['시도'] = na_filled_zero['시도'].map(sido.set_index('KOR_NAME').to_dict()['CODE'])\n",
    "\n",
    "na_filled_mean =csv.read_csv(config['data_path']+ 'csv/cleaned/independent/to_mean.csv').to_pandas()\n",
    "na_filled_mean['시도'] = na_filled_mean['시도'].map(sido.set_index('KOR_NAME').to_dict()['CODE'])\n",
    "\n",
    "# 0으로 대체\n",
    "try :\n",
    "    cursor.execute(\"\"\"\n",
    "        DROP TABLE independent_zero\n",
    "    \"\"\")\n",
    "except:\n",
    "    pass        \n",
    "finally:\n",
    "    col_name , val_cnt,tabel_cols= clean_colName(na_filled_zero.columns[2:])\n",
    "    cursor.execute(f'create table independent_zero ( {tabel_cols} )')     \n",
    "    sql = f'insert into independent_zero( {col_name} ) values ( {val_cnt} )' \n",
    "    indi_val = na_filled_zero.astype(str).fillna('').drop_duplicates()\n",
    "    val = list(map(tuple,indi_val.values.tolist()))\n",
    "    cursor.executemany(sql,val)\n",
    "    conn.commit()\n",
    "    \n",
    "# 종속변수 테이블 생성\n",
    "# Mean으로 대체\n",
    "try :\n",
    "    cursor.execute(\"\"\"\n",
    "        DROP TABLE independent_mean\n",
    "    \"\"\")\n",
    "except:\n",
    "    pass        \n",
    "finally:\n",
    "    col_name , val_cnt,tabel_cols= clean_colName(na_filled_mean.columns[2:])\n",
    "    cursor.execute(f'create table independent_mean ( {tabel_cols} )')     \n",
    "    sql = f'insert into independent_mean( {col_name} ) values ( {val_cnt} )' \n",
    "    indi_val = na_filled_mean.astype(str).fillna('').drop_duplicates()\n",
    "    val = list(map(tuple,indi_val.values.tolist()))\n",
    "    cursor.executemany(sql,val)\n",
    "    conn.commit()\n",
    "    "
   ]
  },
  {
   "cell_type": "markdown",
   "metadata": {},
   "source": [
    "# 최종 예측값 DB에 삽입"
   ]
  },
  {
   "cell_type": "code",
   "execution_count": 10,
   "metadata": {},
   "outputs": [],
   "source": [
    "finalPredict = csv.read_csv(config['data_path']+ 'csv/cleaned/crime_predicted_xgboost_mean_scaled.csv').to_pandas()\n",
    "finalPredict\n",
    "\n",
    "# 종속변수 테이블 생성\n",
    "# Mean으로 대체\n",
    "try :\n",
    "    cursor.execute(\"\"\"\n",
    "        DROP TABLE final_predict\n",
    "    \"\"\")\n",
    "except:\n",
    "    pass        \n",
    "finally:\n",
    "    col_name , val_cnt,tabel_cols = clean_colName(finalPredict.columns[2:])\n",
    "    cursor.execute(f'create table final_predict ( {tabel_cols} )')     \n",
    "    sql = f'insert into final_predict( {col_name} ) values ( {val_cnt} )' \n",
    "    indi_val = finalPredict.astype(str).fillna('').drop_duplicates()\n",
    "    val = list(map(tuple,indi_val.values.tolist()))\n",
    "    cursor.executemany(sql,val)\n",
    "    conn.commit()"
   ]
  }
 ],
 "metadata": {
  "interpreter": {
   "hash": "c4409229afdb447283b42faeee1bfbefcd5f4f3487cbb679b593e138b99762ae"
  },
  "kernelspec": {
   "display_name": "Python 3.8.0 64-bit ('iitp_keras': conda)",
   "name": "python3"
  },
  "language_info": {
   "codemirror_mode": {
    "name": "ipython",
    "version": 3
   },
   "file_extension": ".py",
   "mimetype": "text/x-python",
   "name": "python",
   "nbconvert_exporter": "python",
   "pygments_lexer": "ipython3",
   "version": "3.8.0"
  },
  "orig_nbformat": 4
 },
 "nbformat": 4,
 "nbformat_minor": 2
}
